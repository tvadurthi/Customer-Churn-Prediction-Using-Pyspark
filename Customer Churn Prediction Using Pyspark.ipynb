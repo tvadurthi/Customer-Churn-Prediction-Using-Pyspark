{
 "cells": [
  {
   "cell_type": "code",
   "execution_count": null,
   "metadata": {
    "id": "qRJgXmMLWyI1"
   },
   "outputs": [],
   "source": [
    "from pyspark.sql import SparkSession\n",
    "from pyspark.ml import Pipeline\n",
    "from pyspark.ml.feature import StringIndexer\n",
    "from pyspark import SparkContext, SparkConf, SQLContext\n",
    "from pyspark.ml.classification import LogisticRegression\n",
    "from pyspark.sql import functions as when\n",
    "from handyspark import *\n",
    "from matplotlib import pyplot as plt\n",
    "%matplotlib inline\n",
    "from pyspark.ml.evaluation import BinaryClassificationEvaluator,MulticlassClassificationEvaluator\n",
    "from pyspark.sql.functions import col"
   ]
  },
  {
   "cell_type": "code",
   "execution_count": null,
   "metadata": {
    "id": "umBaMmFTWyI3"
   },
   "outputs": [],
   "source": [
    "spark = SparkSession.builder.appName('BigDataProject').getOrCreate()"
   ]
  },
  {
   "cell_type": "code",
   "execution_count": null,
   "metadata": {
    "id": "e4y2UqS6WyI4"
   },
   "outputs": [],
   "source": [
    "data = spark.read.option(\"multiLine\",\"true\").csv(\"G:\\My Drive\\Sem 2\\Big Data Analytics\\Big Data Project\\WA_Fn-UseC_-Telco-Customer-Churn.csv\",inferSchema=True,header=True)"
   ]
  },
  {
   "cell_type": "markdown",
   "metadata": {
    "id": "1RBvqWSIWyI5"
   },
   "source": [
    "### Check out the data"
   ]
  },
  {
   "cell_type": "code",
   "execution_count": null,
   "metadata": {
    "id": "LsSTv89UWyI5",
    "outputId": "1aeaf431-06b5-4a5c-8ac5-02b90913aca9"
   },
   "outputs": [
    {
     "data": {
      "text/plain": [
       "<bound method DataFrame.describe of DataFrame[customerID: string, gender: string, SeniorCitizen: int, Partner: string, Dependents: string, tenure: int, PhoneService: string, MultipleLines: string, InternetService: string, OnlineSecurity: string, OnlineBackup: string, DeviceProtection: string, TechSupport: string, StreamingTV: string, StreamingMovies: string, Contract: string, PaperlessBilling: string, PaymentMethod: string, MonthlyCharges: double, TotalCharges: string, Churn: string]>"
      ]
     },
     "execution_count": 4,
     "metadata": {},
     "output_type": "execute_result"
    }
   ],
   "source": [
    "data.describe"
   ]
  },
  {
   "cell_type": "code",
   "execution_count": null,
   "metadata": {
    "id": "u4sSQSFFWyI7"
   },
   "outputs": [],
   "source": [
    "from pyspark.ml import Pipeline\n",
    "from pyspark.ml.feature import StringIndexer\n",
    "indexers = [StringIndexer(inputCol=column, outputCol=column+\"_index\").fit(data) for column in list(set(data.columns)-set(['customerID'])) ]\n",
    "\n",
    "pipeline = Pipeline(stages=indexers)\n",
    "df_r = pipeline.fit(data).transform(data)\n",
    "\n",
    "#df_r.show(5)"
   ]
  },
  {
   "cell_type": "code",
   "execution_count": null,
   "metadata": {
    "id": "r0PSIw4AWyI8",
    "outputId": "7acbf5ad-39ee-4edb-82a9-5ad6f412f188"
   },
   "outputs": [
    {
     "data": {
      "text/plain": [
       "\"\\ndf_r = df_r.drop('customerID', 'gender', 'SeniorCitizen', 'Partner', 'Dependents', 'tenure', 'PhoneService', 'MultipleLines',\\n 'InternetService', 'OnlineSecurity', 'OnlineBackup', 'DeviceProtection', 'TechSupport', 'StreamingTV', 'StreamingMovies',\\n 'Contract', 'PaperlessBilling', 'PaymentMethod', 'MonthlyCharges', 'TotalCharges', 'Churn')\\ndf_r.show()\\n\""
      ]
     },
     "execution_count": 6,
     "metadata": {},
     "output_type": "execute_result"
    }
   ],
   "source": [
    "\"\"\"\n",
    "df_r = df_r.drop('customerID', 'gender', 'SeniorCitizen', 'Partner', 'Dependents', 'tenure', 'PhoneService', 'MultipleLines',\n",
    " 'InternetService', 'OnlineSecurity', 'OnlineBackup', 'DeviceProtection', 'TechSupport', 'StreamingTV', 'StreamingMovies',\n",
    " 'Contract', 'PaperlessBilling', 'PaymentMethod', 'MonthlyCharges', 'TotalCharges', 'Churn')\n",
    "df_r.show()\n",
    "\"\"\""
   ]
  },
  {
   "cell_type": "code",
   "execution_count": null,
   "metadata": {
    "id": "ysX6J5FVWyI9"
   },
   "outputs": [],
   "source": [
    "#data.select(df_basket1.colRegex(\"`(Item)+?.+`\")).show()\n",
    "selected_df = [s for s in df_r.columns if '_index' in s]#+['index']\n",
    "df_encoded=df_r.select(selected_df)\n",
    "#df_encoded.show(5)"
   ]
  },
  {
   "cell_type": "code",
   "execution_count": null,
   "metadata": {
    "id": "207eBi-0WyI_"
   },
   "outputs": [],
   "source": [
    "from pyspark.ml.feature import VectorAssembler"
   ]
  },
  {
   "cell_type": "code",
   "execution_count": null,
   "metadata": {
    "id": "lsHC2orTWyI_"
   },
   "outputs": [],
   "source": [
    "assembler = VectorAssembler(inputCols=df_encoded.columns,outputCol='features')\n",
    "#assembler = VectorAssembler(inputCols=['Dependents_index', 'tenure_index', 'TotalCharges_index', 'TechSupport_index', 'InternetService_index', 'PaymentMethod_index', 'Partner_index', 'Contract_index', 'SeniorCitizen_index', 'OnlineBackup_index', 'PaperlessBilling_index', 'StreamingTV_index', 'MultipleLines_index', 'StreamingMovies_index', 'PhoneService_index', 'MonthlyCharges_index', 'OnlineSecurity_index','DeviceProtection_index', 'gender_index'],outputCol='features')"
   ]
  },
  {
   "cell_type": "code",
   "execution_count": null,
   "metadata": {
    "id": "Ew8udmgGWyJA"
   },
   "outputs": [],
   "source": [
    "output = assembler.transform(df_encoded)\n",
    "#output.show(1)"
   ]
  },
  {
   "cell_type": "code",
   "execution_count": null,
   "metadata": {
    "id": "cUmvpbi2WyJB"
   },
   "outputs": [],
   "source": [
    "final_data = output.select('features','churn_index')"
   ]
  },
  {
   "cell_type": "code",
   "execution_count": null,
   "metadata": {
    "id": "Hv999ExsWyJB",
    "outputId": "92679f6d-6fdc-4116-9949-6025e5a801c3"
   },
   "outputs": [
    {
     "name": "stdout",
     "output_type": "stream",
     "text": [
      "+--------------------+-----------+\n",
      "|            features|churn_index|\n",
      "+--------------------+-----------+\n",
      "|(20,[0,1,6,10,11,...|        0.0|\n",
      "|(20,[5,6,7,8,9,10...|        0.0|\n",
      "|(20,[1,5,6,9,10,1...|        1.0|\n",
      "|(20,[5,6,7,8,9,10...|        0.0|\n",
      "|(20,[5,6,13,17,19...|        1.0|\n",
      "+--------------------+-----------+\n",
      "only showing top 5 rows\n",
      "\n"
     ]
    }
   ],
   "source": [
    "#final_data=data.select(\"gender\", \"SeniorCitizen\", \"Partner\", \"Dependents\", \"tenure\", \"PhoneService\", \"MultipleLines\", \"InternetService\", \"OnlineSecurity\", \"OnlineBackup\", \"DeviceProtection\", \"TechSupport\", \"StreamingTV\", \"StreamingMovies\", \"Contract\", \"PaperlessBilling\", \"PaymentMethod\", \"MonthlyCharges\",\"TotalCharges\",\"churn\")\n",
    "final_data.show(5)"
   ]
  },
  {
   "cell_type": "code",
   "execution_count": null,
   "metadata": {
    "id": "8S7o6O0TWyJC"
   },
   "outputs": [],
   "source": [
    "def evalmetrics(predf):\n",
    "    predf = predf.select('features','churn_index','probability','prediction','rawPrediction')\n",
    "    evaluator = BinaryClassificationEvaluator(rawPredictionCol='rawPrediction', labelCol='churn_index')\n",
    "    mcEvaluator = MulticlassClassificationEvaluator(metricName=\"accuracy\", labelCol='churn_index',)\n",
    "    \n",
    "    #print confusion Matrix\n",
    "    print(\"Confusion Matrix:\")\n",
    "    cf=predf.crosstab('churn_index', 'prediction').show()\n",
    "    #cf.show()\n",
    "    \n",
    "    \n",
    "    # Accuarcy and Area and ROC\n",
    "    auroc = evaluator.evaluate(predf, {evaluator.metricName: \"areaUnderROC\"})\n",
    "    print(\"Area under ROC Curve: {:.4f}\".format(auroc))\n",
    "    print(f\"Accuracy : {mcEvaluator.evaluate(predf)}\")"
   ]
  },
  {
   "cell_type": "markdown",
   "metadata": {
    "id": "zZIxVseYWyJD"
   },
   "source": [
    "### Test Train Split"
   ]
  },
  {
   "cell_type": "code",
   "execution_count": null,
   "metadata": {
    "id": "KWbaC9d_WyJE"
   },
   "outputs": [],
   "source": [
    "train_churn,test_churn = final_data.randomSplit([0.6,0.4])"
   ]
  },
  {
   "cell_type": "markdown",
   "metadata": {
    "id": "hgDpKEZhWyJE"
   },
   "source": [
    "### Fit the model (Logistic Regression)"
   ]
  },
  {
   "cell_type": "code",
   "execution_count": null,
   "metadata": {
    "id": "EUhBZ06yWyJF"
   },
   "outputs": [],
   "source": [
    "lr_churn = LogisticRegression(labelCol='churn_index', featuresCol=\"features\",maxIter=10, regParam=0.5)\n",
    "fitted_churn_model = lr_churn.fit(train_churn)"
   ]
  },
  {
   "cell_type": "code",
   "execution_count": null,
   "metadata": {
    "id": "f4mXbWSZWyJG"
   },
   "outputs": [],
   "source": [
    "training_sum = fitted_churn_model.summary\n",
    "#training_sum.predictions.show(5)#.describe()\n",
    "#predDF_train=training_sum.predictions.select(\"churn_index\",\"prediction\")\n",
    "\n",
    "predDF_train_lr = fitted_churn_model.transform(train_churn)\n",
    "#predDF_train = predDF_train.select('features','churn_index','probability','prediction','rawPrediction')"
   ]
  },
  {
   "cell_type": "code",
   "execution_count": null,
   "metadata": {
    "id": "JE78pdN9WyJG",
    "outputId": "95a6b1d9-ca54-4de9-ca83-a837f9ae210f"
   },
   "outputs": [
    {
     "name": "stdout",
     "output_type": "stream",
     "text": [
      "Logistic Regression Model Evalution (Training Data)\n",
      "Confusion Matrix:\n",
      "+----------------------+----+---+\n",
      "|churn_index_prediction| 0.0|1.0|\n",
      "+----------------------+----+---+\n",
      "|                   1.0| 286|818|\n",
      "|                   0.0|3111|  0|\n",
      "+----------------------+----+---+\n",
      "\n",
      "Area under ROC Curve: 0.9975\n",
      "Accuracy : 0.93214709371293\n"
     ]
    }
   ],
   "source": [
    "print(\"Logistic Regression Model Evalution (Training Data)\")\n",
    "evalmetrics(predDF_train_lr)"
   ]
  },
  {
   "cell_type": "markdown",
   "metadata": {
    "id": "iZn3tV9uWyJH"
   },
   "source": [
    "### Evaluate results"
   ]
  },
  {
   "cell_type": "code",
   "execution_count": null,
   "metadata": {
    "id": "pCED6nkEWyJH",
    "outputId": "5492d729-f0d0-4963-b49b-0c7f66fcdbf8"
   },
   "outputs": [
    {
     "name": "stdout",
     "output_type": "stream",
     "text": [
      "Logistic Regression Model Evalution (Test Data)\n",
      "Confusion Matrix:\n",
      "+----------------------+----+---+\n",
      "|churn_index_prediction| 0.0|1.0|\n",
      "+----------------------+----+---+\n",
      "|                   1.0| 229|536|\n",
      "|                   0.0|2063|  0|\n",
      "+----------------------+----+---+\n",
      "\n",
      "Area under ROC Curve: 0.9982\n",
      "Accuracy : 0.919024045261669\n"
     ]
    }
   ],
   "source": [
    "predDF_test_lr = fitted_churn_model.transform(test_churn)\n",
    "print(\"Logistic Regression Model Evalution (Test Data)\")\n",
    "evalmetrics(predDF_test_lr)"
   ]
  },
  {
   "cell_type": "markdown",
   "metadata": {
    "id": "tbWjtMHZWyJI"
   },
   "source": [
    "# Naive Bayes Model Model"
   ]
  },
  {
   "cell_type": "code",
   "execution_count": null,
   "metadata": {
    "id": "UsEvoa2iWyJI"
   },
   "outputs": [],
   "source": [
    "from pyspark.ml.classification import NaiveBayes\n",
    "#from pyspark.ml.evaluation import MulticlassClassificationEvaluator"
   ]
  },
  {
   "cell_type": "code",
   "execution_count": null,
   "metadata": {
    "id": "rYPnWIVuWyJI"
   },
   "outputs": [],
   "source": [
    "# create the trainer and set its parameters\n",
    "nb = NaiveBayes(smoothing=1.0, modelType=\"multinomial\",featuresCol='features', labelCol='churn_index')\n",
    "\n",
    "# train the model\n",
    "model = nb.fit(train_churn)"
   ]
  },
  {
   "cell_type": "code",
   "execution_count": null,
   "metadata": {
    "id": "zOJVm_jTWyJJ",
    "outputId": "fe2c3840-5f01-4bad-e6dd-f29d5724a2e9"
   },
   "outputs": [
    {
     "name": "stdout",
     "output_type": "stream",
     "text": [
      "Naive Bayes Model Model Evalution (Train Data)\n",
      "Confusion Matrix:\n",
      "+----------------------+----+----+\n",
      "|churn_index_prediction| 0.0| 1.0|\n",
      "+----------------------+----+----+\n",
      "|                   1.0| 491| 613|\n",
      "|                   0.0|2007|1104|\n",
      "+----------------------+----+----+\n",
      "\n",
      "Area under ROC Curve: 0.5440\n",
      "Accuracy : 0.6215895610913404\n"
     ]
    }
   ],
   "source": [
    "predDF_train_nb = model.transform(train_churn)\n",
    "print(\"Naive Bayes Model Model Evalution (Train Data)\")\n",
    "evalmetrics(predDF_train_nb)"
   ]
  },
  {
   "cell_type": "code",
   "execution_count": null,
   "metadata": {
    "id": "jK5khWD6WyJJ",
    "outputId": "46d07652-cac7-4479-d80a-071185aa4e9f"
   },
   "outputs": [
    {
     "name": "stdout",
     "output_type": "stream",
     "text": [
      "Naive Bayes Model Model Evalution (Test Data)\n",
      "Confusion Matrix:\n",
      "+----------------------+----+---+\n",
      "|churn_index_prediction| 0.0|1.0|\n",
      "+----------------------+----+---+\n",
      "|                   1.0| 317|448|\n",
      "|                   0.0|1347|716|\n",
      "+----------------------+----+---+\n",
      "\n",
      "Area under ROC Curve: 0.5179\n",
      "Accuracy : 0.6347241867043847\n"
     ]
    }
   ],
   "source": [
    "predDF_test_nb = model.transform(test_churn)\n",
    "print(\"Naive Bayes Model Model Evalution (Test Data)\")\n",
    "evalmetrics(predDF_test_nb)"
   ]
  }
 ],
 "metadata": {
  "anaconda-cloud": {},
  "colab": {
   "name": "Big Data Project.ipynb",
   "provenance": []
  },
  "kernelspec": {
   "display_name": "Python 3 (ipykernel)",
   "language": "python",
   "name": "python3"
  },
  "language_info": {
   "codemirror_mode": {
    "name": "ipython",
    "version": 3
   },
   "file_extension": ".py",
   "mimetype": "text/x-python",
   "name": "python",
   "nbconvert_exporter": "python",
   "pygments_lexer": "ipython3",
   "version": "3.11.2"
  }
 },
 "nbformat": 4,
 "nbformat_minor": 1
}
